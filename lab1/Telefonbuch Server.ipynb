{
 "cells": [
  {
   "cell_type": "markdown",
   "metadata": {},
   "source": [
    "# Telefonbuch Server"
   ]
  },
  {
   "cell_type": "code",
   "execution_count": 6,
   "metadata": {
    "scrolled": true
   },
   "outputs": [
    {
     "name": "stderr",
     "output_type": "stream",
     "text": [
      "2018-10-18 16:43:09,115 - vs2lab.a1_layers.clientserver.Server - INFO - Server bound to socket <socket.socket fd=63, family=AddressFamily.AF_INET, type=SocketKind.SOCK_STREAM, proto=0, laddr=('0.0.0.0', 50007)>\n",
      "2018-10-18 16:43:09,115 - vs2lab.a1_layers.clientserver.Server - INFO - Server bound to socket <socket.socket fd=63, family=AddressFamily.AF_INET, type=SocketKind.SOCK_STREAM, proto=0, laddr=('0.0.0.0', 50007)>\n",
      "2018-10-18 16:43:09,115 - vs2lab.a1_layers.clientserver.Server - INFO - Server bound to socket <socket.socket fd=63, family=AddressFamily.AF_INET, type=SocketKind.SOCK_STREAM, proto=0, laddr=('0.0.0.0', 50007)>\n",
      "2018-10-18 16:43:09,115 - vs2lab.a1_layers.clientserver.Server - INFO - Server bound to socket <socket.socket fd=63, family=AddressFamily.AF_INET, type=SocketKind.SOCK_STREAM, proto=0, laddr=('0.0.0.0', 50007)>\n"
     ]
    }
   ],
   "source": [
    "import telefonbuch\n",
    "import lab_logging\n",
    "lab_logging.setup()"
   ]
  },
  {
   "cell_type": "markdown",
   "metadata": {},
   "source": [
    "Erstellen eines TB Servers und starten. Server schließst sich nach Verbindungsabbau"
   ]
  },
  {
   "cell_type": "code",
   "execution_count": null,
   "metadata": {},
   "outputs": [],
   "source": [
    "server = telefonbuch.Server()\n",
    "server.serve()"
   ]
  },
  {
   "cell_type": "markdown",
   "metadata": {},
   "source": [
    "manuelles schließen des sockets."
   ]
  },
  {
   "cell_type": "code",
   "execution_count": 5,
   "metadata": {},
   "outputs": [
    {
     "name": "stderr",
     "output_type": "stream",
     "text": [
      "2018-10-18 16:43:00,761 - vs2lab.a1_layers.clientserver.Server - INFO - Server down\n",
      "2018-10-18 16:43:00,761 - vs2lab.a1_layers.clientserver.Server - INFO - Server down\n",
      "2018-10-18 16:43:00,761 - vs2lab.a1_layers.clientserver.Server - INFO - Server down\n"
     ]
    }
   ],
   "source": [
    "server . close()"
   ]
  }
 ],
 "metadata": {
  "kernelspec": {
   "display_name": "Python 3",
   "language": "python",
   "name": "python3"
  },
  "language_info": {
   "codemirror_mode": {
    "name": "ipython",
    "version": 3
   },
   "file_extension": ".py",
   "mimetype": "text/x-python",
   "name": "python",
   "nbconvert_exporter": "python",
   "pygments_lexer": "ipython3",
   "version": "3.7.0"
  }
 },
 "nbformat": 4,
 "nbformat_minor": 2
}
